{
 "cells": [
  {
   "cell_type": "markdown",
   "metadata": {
    "collapsed": false,
    "jupyter": {
     "outputs_hidden": false
    },
    "pycharm": {
     "name": "#%% md\n"
    }
   },
   "source": [
    "# Generate the event and article knowledge graph\n",
    "For AFP 2021"
   ]
  },
  {
   "cell_type": "code",
   "execution_count": 1,
   "metadata": {
    "collapsed": false,
    "jupyter": {
     "outputs_hidden": false
    },
    "pycharm": {
     "name": "#%%\n"
    }
   },
   "outputs": [],
   "source": [
    "from tqdm.notebook import tqdm\n",
    "import rdflib\n",
    "from rdflib import Graph, Literal, RDF, XSD, URIRef, Namespace\n",
    "import pandas as pd\n",
    "from SPARQLWrapper import SPARQLWrapper, JSON\n",
    "import ast\n",
    "import re\n",
    "from utils import clean_text\n",
    "from os import path\n",
    "\n",
    "\n",
    "nif = Namespace(\"http://persistence.uni-leipzig.org/nlp2rdf/ontologies/nif-core#\")\n",
    "faro = Namespace(\"https://purl.org/faro/\")\n",
    "sem = Namespace(\"http://semanticweb.cs.vu.nl/2009/11/sem/\")\n",
    "owl = Namespace(\"http://www.w3.org/2002/07/owl#\")\n",
    "rnews = Namespace(\"http://iptc.org/std/rNews/2011-10-07#\")\n",
    "schema = Namespace(\"http://schema.org/\")\n",
    "\n",
    "faro_classes = {'cause': faro.causes, 'enable': faro.enables, 'intend': faro.intends_to_cause, 'prevent': faro.prevents} #dict of faro definitions\n",
    "sem_props = {'http://www.wikidata.org/prop/direct/P710': sem.hasActor,\n",
    "             'http://www.wikidata.org/prop/direct/P664': sem.hasActor,\n",
    "             'http://www.wikidata.org/prop/direct/P112': sem.hasActor,\n",
    "             'http://www.wikidata.org/prop/direct/P17': sem.hasPlace,\n",
    "             'http://www.wikidata.org/prop/direct/P276': sem.hasPlace,\n",
    "             'http://www.wikidata.org/prop/direct/P625': sem.hasPlace,\n",
    "             'http://www.wikidata.org/prop/direct/P131': sem.hasPlace,\n",
    "             'http://www.wikidata.org/prop/direct/P30': sem.hasPlace,\n",
    "             'http://www.wikidata.org/prop/direct/P585': sem.hasTime,\n",
    "             'http://www.wikidata.org/prop/direct/P580': sem.hasBeginTimeStamp,\n",
    "             'http://www.wikidata.org/prop/direct/P582': sem.hasEndTimeStamp,\n",
    "             'http://www.wikidata.org/prop/direct/P571': sem.hasTime,\n",
    "             'http://www.wikidata.org/prop/direct/P576': sem.hasTime,\n",
    "             'http://www.wikidata.org/prop/direct/P577': sem.hasTimeStamp,\n",
    "             'http://www.w3.org/2000/01/rdf-schema#label': 'what'}\n",
    "\n",
    "sem_classes = {sem.hasActor: sem.Actor,\n",
    "               sem.hasPlace: sem.Place,\n",
    "               sem.hasTime: sem.Time,\n",
    "               sem.hasBeginTimeStamp: sem.Time,\n",
    "               sem.hasEndTimeStamp: sem.Time,\n",
    "               sem.hasTimeStamp: sem.Time,\n",
    "               'what': sem.Event}\n"
   ]
  },
  {
   "cell_type": "code",
   "execution_count": 3,
   "metadata": {
    "collapsed": false,
    "jupyter": {
     "outputs_hidden": false
    },
    "pycharm": {
     "name": "#%%\n"
    }
   },
   "outputs": [],
   "source": [
    "DATA_ROOT = '../data'\n",
    "OUT_ROOT = '../dump/afp/'"
   ]
  },
  {
   "cell_type": "code",
   "execution_count": 3,
   "metadata": {
    "collapsed": false,
    "jupyter": {
     "outputs_hidden": false
    },
    "pycharm": {
     "name": "#%%\n"
    }
   },
   "outputs": [
    {
     "data": {
      "text/html": [
       "<div>\n",
       "<style scoped>\n",
       "    .dataframe tbody tr th:only-of-type {\n",
       "        vertical-align: middle;\n",
       "    }\n",
       "\n",
       "    .dataframe tbody tr th {\n",
       "        vertical-align: top;\n",
       "    }\n",
       "\n",
       "    .dataframe thead th {\n",
       "        text-align: right;\n",
       "    }\n",
       "</style>\n",
       "<table border=\"1\" class=\"dataframe\">\n",
       "  <thead>\n",
       "    <tr style=\"text-align: right;\">\n",
       "      <th></th>\n",
       "      <th>file_name</th>\n",
       "      <th>name_label</th>\n",
       "      <th>news_identifier</th>\n",
       "      <th>public_identifier</th>\n",
       "      <th>dateline</th>\n",
       "      <th>headline</th>\n",
       "      <th>country</th>\n",
       "      <th>city</th>\n",
       "      <th>keywords</th>\n",
       "      <th>genre</th>\n",
       "      <th>body_content</th>\n",
       "      <th>body_length</th>\n",
       "      <th>prediction</th>\n",
       "    </tr>\n",
       "  </thead>\n",
       "  <tbody>\n",
       "    <tr>\n",
       "      <th>0</th>\n",
       "      <td>afp.com-20210606T170343Z-TX-PAR-WXO51.xml</td>\n",
       "      <td>Tennis-FRA-Open-Azarenka-sexism</td>\n",
       "      <td>TX-PAR-WXO51</td>\n",
       "      <td>urn:newsml:afp.com:20210606T170343Z:TX-PAR-WXO...</td>\n",
       "      <td>Paris, June 6, 2021 (AFP) -</td>\n",
       "      <td>Azarenka says French Open lacks true gender eq...</td>\n",
       "      <td>FRA</td>\n",
       "      <td>Paris</td>\n",
       "      <td>Tennis, FRA, Open, Azarenka, sexism</td>\n",
       "      <td>NaN</td>\n",
       "      <td>Victoria Azarenka criticised French Open organ...</td>\n",
       "      <td>518</td>\n",
       "      <td>lack of equality  Victoria Azarenka criticise...</td>\n",
       "    </tr>\n",
       "    <tr>\n",
       "      <th>1</th>\n",
       "      <td>afp.com-20210606T170343Z-TX-PAR-WXO51.xml</td>\n",
       "      <td>Tennis-FRA-Open-Azarenka-sexism</td>\n",
       "      <td>TX-PAR-WXO51</td>\n",
       "      <td>urn:newsml:afp.com:20210606T170343Z:TX-PAR-WXO...</td>\n",
       "      <td>Paris, June 6, 2021 (AFP) -</td>\n",
       "      <td>Azarenka says French Open lacks true gender eq...</td>\n",
       "      <td>FRA</td>\n",
       "      <td>Paris</td>\n",
       "      <td>Tennis, FRA, Open, Azarenka, sexism</td>\n",
       "      <td>NaN</td>\n",
       "      <td>The former world number one lost in the fourth...</td>\n",
       "      <td>518</td>\n",
       "      <td>2013 semi-finals  2013  point in time</td>\n",
       "    </tr>\n",
       "    <tr>\n",
       "      <th>2</th>\n",
       "      <td>afp.com-20210606T170343Z-TX-PAR-WXO51.xml</td>\n",
       "      <td>Tennis-FRA-Open-Azarenka-sexism</td>\n",
       "      <td>TX-PAR-WXO51</td>\n",
       "      <td>urn:newsml:afp.com:20210606T170343Z:TX-PAR-WXO...</td>\n",
       "      <td>Paris, June 6, 2021 (AFP) -</td>\n",
       "      <td>Azarenka says French Open lacks true gender eq...</td>\n",
       "      <td>FRA</td>\n",
       "      <td>Paris</td>\n",
       "      <td>Tennis, FRA, Open, Azarenka, sexism</td>\n",
       "      <td>NaN</td>\n",
       "      <td>Last year Azarenka fumed at being left to \"sit...</td>\n",
       "      <td>518</td>\n",
       "      <td>Covid-19 pandemic  the 2020 tournament was de...</td>\n",
       "    </tr>\n",
       "    <tr>\n",
       "      <th>3</th>\n",
       "      <td>afp.com-20210606T170343Z-TX-PAR-WXO51.xml</td>\n",
       "      <td>Tennis-FRA-Open-Azarenka-sexism</td>\n",
       "      <td>TX-PAR-WXO51</td>\n",
       "      <td>urn:newsml:afp.com:20210606T170343Z:TX-PAR-WXO...</td>\n",
       "      <td>Paris, June 6, 2021 (AFP) -</td>\n",
       "      <td>Azarenka says French Open lacks true gender eq...</td>\n",
       "      <td>FRA</td>\n",
       "      <td>Paris</td>\n",
       "      <td>Tennis, FRA, Open, Azarenka, sexism</td>\n",
       "      <td>NaN</td>\n",
       "      <td>Azarenka again took aim at officials following...</td>\n",
       "      <td>518</td>\n",
       "      <td>scheduling  took aim  cause</td>\n",
       "    </tr>\n",
       "    <tr>\n",
       "      <th>4</th>\n",
       "      <td>afp.com-20210606T170343Z-TX-PAR-WXO51.xml</td>\n",
       "      <td>Tennis-FRA-Open-Azarenka-sexism</td>\n",
       "      <td>TX-PAR-WXO51</td>\n",
       "      <td>urn:newsml:afp.com:20210606T170343Z:TX-PAR-WXO...</td>\n",
       "      <td>Paris, June 6, 2021 (AFP) -</td>\n",
       "      <td>Azarenka says French Open lacks true gender eq...</td>\n",
       "      <td>FRA</td>\n",
       "      <td>Paris</td>\n",
       "      <td>Tennis, FRA, Open, Azarenka, sexism</td>\n",
       "      <td>NaN</td>\n",
       "      <td>Serena Williams won the first official night m...</td>\n",
       "      <td>518</td>\n",
       "      <td>curfew  played  cause</td>\n",
       "    </tr>\n",
       "  </tbody>\n",
       "</table>\n",
       "</div>"
      ],
      "text/plain": [
       "                                   file_name                       name_label  \\\n",
       "0  afp.com-20210606T170343Z-TX-PAR-WXO51.xml  Tennis-FRA-Open-Azarenka-sexism   \n",
       "1  afp.com-20210606T170343Z-TX-PAR-WXO51.xml  Tennis-FRA-Open-Azarenka-sexism   \n",
       "2  afp.com-20210606T170343Z-TX-PAR-WXO51.xml  Tennis-FRA-Open-Azarenka-sexism   \n",
       "3  afp.com-20210606T170343Z-TX-PAR-WXO51.xml  Tennis-FRA-Open-Azarenka-sexism   \n",
       "4  afp.com-20210606T170343Z-TX-PAR-WXO51.xml  Tennis-FRA-Open-Azarenka-sexism   \n",
       "\n",
       "  news_identifier                                  public_identifier  \\\n",
       "0    TX-PAR-WXO51  urn:newsml:afp.com:20210606T170343Z:TX-PAR-WXO...   \n",
       "1    TX-PAR-WXO51  urn:newsml:afp.com:20210606T170343Z:TX-PAR-WXO...   \n",
       "2    TX-PAR-WXO51  urn:newsml:afp.com:20210606T170343Z:TX-PAR-WXO...   \n",
       "3    TX-PAR-WXO51  urn:newsml:afp.com:20210606T170343Z:TX-PAR-WXO...   \n",
       "4    TX-PAR-WXO51  urn:newsml:afp.com:20210606T170343Z:TX-PAR-WXO...   \n",
       "\n",
       "                      dateline  \\\n",
       "0  Paris, June 6, 2021 (AFP) -   \n",
       "1  Paris, June 6, 2021 (AFP) -   \n",
       "2  Paris, June 6, 2021 (AFP) -   \n",
       "3  Paris, June 6, 2021 (AFP) -   \n",
       "4  Paris, June 6, 2021 (AFP) -   \n",
       "\n",
       "                                            headline country   city  \\\n",
       "0  Azarenka says French Open lacks true gender eq...     FRA  Paris   \n",
       "1  Azarenka says French Open lacks true gender eq...     FRA  Paris   \n",
       "2  Azarenka says French Open lacks true gender eq...     FRA  Paris   \n",
       "3  Azarenka says French Open lacks true gender eq...     FRA  Paris   \n",
       "4  Azarenka says French Open lacks true gender eq...     FRA  Paris   \n",
       "\n",
       "                              keywords genre  \\\n",
       "0  Tennis, FRA, Open, Azarenka, sexism   NaN   \n",
       "1  Tennis, FRA, Open, Azarenka, sexism   NaN   \n",
       "2  Tennis, FRA, Open, Azarenka, sexism   NaN   \n",
       "3  Tennis, FRA, Open, Azarenka, sexism   NaN   \n",
       "4  Tennis, FRA, Open, Azarenka, sexism   NaN   \n",
       "\n",
       "                                        body_content  body_length  \\\n",
       "0  Victoria Azarenka criticised French Open organ...          518   \n",
       "1  The former world number one lost in the fourth...          518   \n",
       "2  Last year Azarenka fumed at being left to \"sit...          518   \n",
       "3  Azarenka again took aim at officials following...          518   \n",
       "4  Serena Williams won the first official night m...          518   \n",
       "\n",
       "                                          prediction  \n",
       "0   lack of equality  Victoria Azarenka criticise...  \n",
       "1              2013 semi-finals  2013  point in time  \n",
       "2   Covid-19 pandemic  the 2020 tournament was de...  \n",
       "3                        scheduling  took aim  cause  \n",
       "4                              curfew  played  cause  "
      ]
     },
     "execution_count": 3,
     "metadata": {},
     "output_type": "execute_result"
    }
   ],
   "source": [
    "data = pd.read_csv(path.join(DATA_ROOT, 'afp2021_raw.csv'))\n",
    "data.head()"
   ]
  },
  {
   "cell_type": "code",
   "execution_count": 4,
   "metadata": {},
   "outputs": [
    {
     "data": {
      "text/plain": [
       "568147"
      ]
     },
     "execution_count": 4,
     "metadata": {},
     "output_type": "execute_result"
    }
   ],
   "source": [
    "len(data)"
   ]
  },
  {
   "cell_type": "code",
   "execution_count": 5,
   "metadata": {},
   "outputs": [
    {
     "data": {
      "text/plain": [
       "566080"
      ]
     },
     "execution_count": 5,
     "metadata": {},
     "output_type": "execute_result"
    }
   ],
   "source": [
    "# l = []\n",
    "# for x in data['prediction']:\n",
    "#     sp = x.split('  ')\n",
    "#     if len(sp) !=3:\n",
    "#         print(len(sp))\n",
    "#         print(x)\n",
    "delimeter = '  '\n",
    "mask = data['prediction'].apply(lambda x: len(x.split(delimeter)) > 2)\n",
    "data = data[mask]\n",
    "len(data)"
   ]
  },
  {
   "cell_type": "code",
   "execution_count": 6,
   "metadata": {},
   "outputs": [
    {
     "data": {
      "text/html": [
       "<div>\n",
       "<style scoped>\n",
       "    .dataframe tbody tr th:only-of-type {\n",
       "        vertical-align: middle;\n",
       "    }\n",
       "\n",
       "    .dataframe tbody tr th {\n",
       "        vertical-align: top;\n",
       "    }\n",
       "\n",
       "    .dataframe thead th {\n",
       "        text-align: right;\n",
       "    }\n",
       "</style>\n",
       "<table border=\"1\" class=\"dataframe\">\n",
       "  <thead>\n",
       "    <tr style=\"text-align: right;\">\n",
       "      <th></th>\n",
       "      <th>file_name</th>\n",
       "      <th>name_label</th>\n",
       "      <th>news_identifier</th>\n",
       "      <th>public_identifier</th>\n",
       "      <th>dateline</th>\n",
       "      <th>headline</th>\n",
       "      <th>country</th>\n",
       "      <th>city</th>\n",
       "      <th>keywords</th>\n",
       "      <th>genre</th>\n",
       "      <th>body_content</th>\n",
       "      <th>body_length</th>\n",
       "      <th>prediction</th>\n",
       "      <th>e1</th>\n",
       "      <th>e2</th>\n",
       "      <th>rel</th>\n",
       "    </tr>\n",
       "  </thead>\n",
       "  <tbody>\n",
       "    <tr>\n",
       "      <th>0</th>\n",
       "      <td>afp.com-20210606T170343Z-TX-PAR-WXO51.xml</td>\n",
       "      <td>Tennis-FRA-Open-Azarenka-sexism</td>\n",
       "      <td>TX-PAR-WXO51</td>\n",
       "      <td>urn:newsml:afp.com:20210606T170343Z:TX-PAR-WXO...</td>\n",
       "      <td>Paris, June 6, 2021 (AFP) -</td>\n",
       "      <td>Azarenka says French Open lacks true gender eq...</td>\n",
       "      <td>FRA</td>\n",
       "      <td>Paris</td>\n",
       "      <td>Tennis, FRA, Open, Azarenka, sexism</td>\n",
       "      <td>NaN</td>\n",
       "      <td>Victoria Azarenka criticised French Open organ...</td>\n",
       "      <td>518</td>\n",
       "      <td>lack of equality  Victoria Azarenka criticise...</td>\n",
       "      <td>lack of equality</td>\n",
       "      <td>Victoria Azarenka criticised French Open organ...</td>\n",
       "      <td>cause</td>\n",
       "    </tr>\n",
       "    <tr>\n",
       "      <th>1</th>\n",
       "      <td>afp.com-20210606T170343Z-TX-PAR-WXO51.xml</td>\n",
       "      <td>Tennis-FRA-Open-Azarenka-sexism</td>\n",
       "      <td>TX-PAR-WXO51</td>\n",
       "      <td>urn:newsml:afp.com:20210606T170343Z:TX-PAR-WXO...</td>\n",
       "      <td>Paris, June 6, 2021 (AFP) -</td>\n",
       "      <td>Azarenka says French Open lacks true gender eq...</td>\n",
       "      <td>FRA</td>\n",
       "      <td>Paris</td>\n",
       "      <td>Tennis, FRA, Open, Azarenka, sexism</td>\n",
       "      <td>NaN</td>\n",
       "      <td>The former world number one lost in the fourth...</td>\n",
       "      <td>518</td>\n",
       "      <td>2013 semi-finals  2013  point in time</td>\n",
       "      <td>2013 semi-finals</td>\n",
       "      <td>2013</td>\n",
       "      <td>point in time</td>\n",
       "    </tr>\n",
       "    <tr>\n",
       "      <th>2</th>\n",
       "      <td>afp.com-20210606T170343Z-TX-PAR-WXO51.xml</td>\n",
       "      <td>Tennis-FRA-Open-Azarenka-sexism</td>\n",
       "      <td>TX-PAR-WXO51</td>\n",
       "      <td>urn:newsml:afp.com:20210606T170343Z:TX-PAR-WXO...</td>\n",
       "      <td>Paris, June 6, 2021 (AFP) -</td>\n",
       "      <td>Azarenka says French Open lacks true gender eq...</td>\n",
       "      <td>FRA</td>\n",
       "      <td>Paris</td>\n",
       "      <td>Tennis, FRA, Open, Azarenka, sexism</td>\n",
       "      <td>NaN</td>\n",
       "      <td>Last year Azarenka fumed at being left to \"sit...</td>\n",
       "      <td>518</td>\n",
       "      <td>Covid-19 pandemic  the 2020 tournament was de...</td>\n",
       "      <td>Covid-19 pandemic</td>\n",
       "      <td>the 2020 tournament was delayed to late September</td>\n",
       "      <td>cause</td>\n",
       "    </tr>\n",
       "    <tr>\n",
       "      <th>3</th>\n",
       "      <td>afp.com-20210606T170343Z-TX-PAR-WXO51.xml</td>\n",
       "      <td>Tennis-FRA-Open-Azarenka-sexism</td>\n",
       "      <td>TX-PAR-WXO51</td>\n",
       "      <td>urn:newsml:afp.com:20210606T170343Z:TX-PAR-WXO...</td>\n",
       "      <td>Paris, June 6, 2021 (AFP) -</td>\n",
       "      <td>Azarenka says French Open lacks true gender eq...</td>\n",
       "      <td>FRA</td>\n",
       "      <td>Paris</td>\n",
       "      <td>Tennis, FRA, Open, Azarenka, sexism</td>\n",
       "      <td>NaN</td>\n",
       "      <td>Azarenka again took aim at officials following...</td>\n",
       "      <td>518</td>\n",
       "      <td>scheduling  took aim  cause</td>\n",
       "      <td>scheduling</td>\n",
       "      <td>took aim</td>\n",
       "      <td>cause</td>\n",
       "    </tr>\n",
       "    <tr>\n",
       "      <th>4</th>\n",
       "      <td>afp.com-20210606T170343Z-TX-PAR-WXO51.xml</td>\n",
       "      <td>Tennis-FRA-Open-Azarenka-sexism</td>\n",
       "      <td>TX-PAR-WXO51</td>\n",
       "      <td>urn:newsml:afp.com:20210606T170343Z:TX-PAR-WXO...</td>\n",
       "      <td>Paris, June 6, 2021 (AFP) -</td>\n",
       "      <td>Azarenka says French Open lacks true gender eq...</td>\n",
       "      <td>FRA</td>\n",
       "      <td>Paris</td>\n",
       "      <td>Tennis, FRA, Open, Azarenka, sexism</td>\n",
       "      <td>NaN</td>\n",
       "      <td>Serena Williams won the first official night m...</td>\n",
       "      <td>518</td>\n",
       "      <td>curfew  played  cause</td>\n",
       "      <td>curfew</td>\n",
       "      <td>played</td>\n",
       "      <td>cause</td>\n",
       "    </tr>\n",
       "  </tbody>\n",
       "</table>\n",
       "</div>"
      ],
      "text/plain": [
       "                                   file_name                       name_label  \\\n",
       "0  afp.com-20210606T170343Z-TX-PAR-WXO51.xml  Tennis-FRA-Open-Azarenka-sexism   \n",
       "1  afp.com-20210606T170343Z-TX-PAR-WXO51.xml  Tennis-FRA-Open-Azarenka-sexism   \n",
       "2  afp.com-20210606T170343Z-TX-PAR-WXO51.xml  Tennis-FRA-Open-Azarenka-sexism   \n",
       "3  afp.com-20210606T170343Z-TX-PAR-WXO51.xml  Tennis-FRA-Open-Azarenka-sexism   \n",
       "4  afp.com-20210606T170343Z-TX-PAR-WXO51.xml  Tennis-FRA-Open-Azarenka-sexism   \n",
       "\n",
       "  news_identifier                                  public_identifier  \\\n",
       "0    TX-PAR-WXO51  urn:newsml:afp.com:20210606T170343Z:TX-PAR-WXO...   \n",
       "1    TX-PAR-WXO51  urn:newsml:afp.com:20210606T170343Z:TX-PAR-WXO...   \n",
       "2    TX-PAR-WXO51  urn:newsml:afp.com:20210606T170343Z:TX-PAR-WXO...   \n",
       "3    TX-PAR-WXO51  urn:newsml:afp.com:20210606T170343Z:TX-PAR-WXO...   \n",
       "4    TX-PAR-WXO51  urn:newsml:afp.com:20210606T170343Z:TX-PAR-WXO...   \n",
       "\n",
       "                      dateline  \\\n",
       "0  Paris, June 6, 2021 (AFP) -   \n",
       "1  Paris, June 6, 2021 (AFP) -   \n",
       "2  Paris, June 6, 2021 (AFP) -   \n",
       "3  Paris, June 6, 2021 (AFP) -   \n",
       "4  Paris, June 6, 2021 (AFP) -   \n",
       "\n",
       "                                            headline country   city  \\\n",
       "0  Azarenka says French Open lacks true gender eq...     FRA  Paris   \n",
       "1  Azarenka says French Open lacks true gender eq...     FRA  Paris   \n",
       "2  Azarenka says French Open lacks true gender eq...     FRA  Paris   \n",
       "3  Azarenka says French Open lacks true gender eq...     FRA  Paris   \n",
       "4  Azarenka says French Open lacks true gender eq...     FRA  Paris   \n",
       "\n",
       "                              keywords genre  \\\n",
       "0  Tennis, FRA, Open, Azarenka, sexism   NaN   \n",
       "1  Tennis, FRA, Open, Azarenka, sexism   NaN   \n",
       "2  Tennis, FRA, Open, Azarenka, sexism   NaN   \n",
       "3  Tennis, FRA, Open, Azarenka, sexism   NaN   \n",
       "4  Tennis, FRA, Open, Azarenka, sexism   NaN   \n",
       "\n",
       "                                        body_content  body_length  \\\n",
       "0  Victoria Azarenka criticised French Open organ...          518   \n",
       "1  The former world number one lost in the fourth...          518   \n",
       "2  Last year Azarenka fumed at being left to \"sit...          518   \n",
       "3  Azarenka again took aim at officials following...          518   \n",
       "4  Serena Williams won the first official night m...          518   \n",
       "\n",
       "                                          prediction                  e1  \\\n",
       "0   lack of equality  Victoria Azarenka criticise...    lack of equality   \n",
       "1              2013 semi-finals  2013  point in time    2013 semi-finals   \n",
       "2   Covid-19 pandemic  the 2020 tournament was de...   Covid-19 pandemic   \n",
       "3                        scheduling  took aim  cause          scheduling   \n",
       "4                              curfew  played  cause              curfew   \n",
       "\n",
       "                                                  e2            rel  \n",
       "0  Victoria Azarenka criticised French Open organ...          cause  \n",
       "1                                               2013  point in time  \n",
       "2  the 2020 tournament was delayed to late September          cause  \n",
       "3                                           took aim          cause  \n",
       "4                                             played          cause  "
      ]
     },
     "execution_count": 6,
     "metadata": {},
     "output_type": "execute_result"
    }
   ],
   "source": [
    "data['prediction'] = data['prediction'].apply(strip)\n",
    "data[['e1','e2','rel']] = data['prediction'].str.split('  ', n=2, expand=True,regex=False)\n",
    "data.head()"
   ]
  },
  {
   "cell_type": "code",
   "execution_count": 7,
   "metadata": {},
   "outputs": [
    {
     "data": {
      "text/plain": [
       "538708"
      ]
     },
     "execution_count": 7,
     "metadata": {},
     "output_type": "execute_result"
    }
   ],
   "source": [
    "data = data[data['rel'].isin(['cause','enable','intend','prevent'])]\n",
    "len(data)"
   ]
  },
  {
   "cell_type": "code",
   "execution_count": 8,
   "metadata": {},
   "outputs": [
    {
     "data": {
      "text/plain": [
       "50713"
      ]
     },
     "execution_count": 8,
     "metadata": {},
     "output_type": "execute_result"
    }
   ],
   "source": [
    "nids = data['public_identifier'].unique() # news identifiers\n",
    "len(nids)"
   ]
  },
  {
   "cell_type": "code",
   "execution_count": 9,
   "metadata": {},
   "outputs": [
    {
     "data": {
      "application/vnd.jupyter.widget-view+json": {
       "model_id": "ff54affc75a149e3898f1ea6b709d216",
       "version_major": 2,
       "version_minor": 0
      },
      "text/plain": [
       "  0%|          | 0/50713 [00:00<?, ?it/s]"
      ]
     },
     "metadata": {},
     "output_type": "display_data"
    }
   ],
   "source": [
    "# For each news, checking on ASRAEL KG if we have the wikidata event\n",
    "graph = Graph()\n",
    "place_set = set()\n",
    "time_set = set()\n",
    "actor_set = set()\n",
    "\n",
    "\n",
    "news_mapping = {}\n",
    "\n",
    "sparql = SPARQLWrapper(\"https://asrael.eurecom.fr/sparql\")\n",
    "sparql.setReturnFormat(JSON)\n",
    "\n",
    "\n",
    "for nid in tqdm(nids):\n",
    "    q = \"\"\"\n",
    "    SELECT DISTINCT * where {\n",
    "    ?news rnews:identifier \"%s\" ;\n",
    "          owl:sameAs ?event\n",
    "    } LIMIT 1\"\"\" % nid\n",
    "    sparql.setQuery(q)\n",
    "\n",
    "    \n",
    "    try:\n",
    "        result = sparql.queryAndConvert()\n",
    "        event_data = result[\"results\"][\"bindings\"]\n",
    "        if len(event_data) < 1:\n",
    "            news_mapping[nid] = None\n",
    "            continue\n",
    "    \n",
    "        news_mapping[nid] = event_data[0]['event']['value']\n",
    "    except:\n",
    "        print(f\"Something went wrong when converting event: {nid}\")"
   ]
  },
  {
   "cell_type": "code",
   "execution_count": 10,
   "metadata": {},
   "outputs": [
    {
     "data": {
      "text/plain": [
       "5109"
      ]
     },
     "execution_count": 10,
     "metadata": {},
     "output_type": "execute_result"
    }
   ],
   "source": [
    "data['event'] = data['public_identifier'].apply(lambda nif: news_mapping.get(nif))\n",
    "len(data[data['event'].notnull()])"
   ]
  },
  {
   "cell_type": "code",
   "execution_count": 11,
   "metadata": {
    "collapsed": false,
    "jupyter": {
     "outputs_hidden": false
    },
    "pycharm": {
     "is_executing": true,
     "name": "#%%\n"
    }
   },
   "outputs": [
    {
     "data": {
      "application/vnd.jupyter.widget-view+json": {
       "model_id": "a88dcd6090fd44ed8bd80ae7bab08177",
       "version_major": 2,
       "version_minor": 0
      },
      "text/plain": [
       "  0%|          | 0/29 [00:00<?, ?it/s]"
      ]
     },
     "metadata": {},
     "output_type": "display_data"
    },
    {
     "name": "stdout",
     "output_type": "stream",
     "text": [
      "Error when searching for event: http://www.wikidata.org/entity/Q100919128\n"
     ]
    }
   ],
   "source": [
    "#This converts the data into the right format, by removing uneccessary tokens in text and converting the wikidata link to text\n",
    "from utils import uri_validator, node_creation\n",
    "\n",
    "graph = Graph()\n",
    "place_set = set()\n",
    "time_set = set()\n",
    "actor_set = set()\n",
    "\n",
    "\n",
    "event_mapping = {} #here the wikidata event urls and their names are saved\n",
    "failed_events= [] #Events that can't be found e.g. owl:sameAs need to be removed\n",
    "\n",
    "sparql = SPARQLWrapper(\n",
    "    \"https://query.wikidata.org/sparql\"\n",
    ")\n",
    "sparql.setReturnFormat(JSON)\n",
    "\n",
    "for event in tqdm(data['event'].unique().tolist()):\n",
    "    if event is None:\n",
    "        continue\n",
    "    event_ = f\"wd:{event.split('/')[-1]}\"\n",
    "\n",
    "    sparql.setQuery(\"\"\"\n",
    "    SELECT (?p as ?wiki_prop) (?o as ?result)\n",
    "    WHERE {{{\n",
    "\n",
    "        %s ?p ?temp.\n",
    "      ?temp rdfs:label ?o.\n",
    "      FILTER (lang(?o) = 'en') }\n",
    "      }\n",
    "\n",
    "      UNION\n",
    "\n",
    "      {\n",
    "       SELECT *\n",
    "       WHERE{\n",
    "        %s ?p ?o.\n",
    "         FILTER(lang(?o) = 'en' || lang(?o)='') }}\n",
    "     } \"\"\" % (event_, event_))\n",
    "\n",
    "    try:\n",
    "        result = sparql.queryAndConvert()\n",
    "        #event_name = ret['results']['bindings'][0]['item']['value']\n",
    "\n",
    "    except:\n",
    "        print(f\"Something went wrong when converting event: {event}\")\n",
    "\n",
    "    try:\n",
    "        event_data = pd.json_normalize(result[\"results\"][\"bindings\"])[['wiki_prop.value', 'result.value', 'result.datatype']]\n",
    "        event_data = event_data.rename(columns={\"wiki_prop.value\": \"property\", \"result.value\": \"value\", \"result.datatype\": \"datatype\"})\n",
    "        event_data = event_data.loc[event_data['property'].isin(sem_props.keys())].reset_index(drop=True) #Only keep the 4W attributes\n",
    "        event_data['property'] = event_data['property'].replace(sem_props)\n",
    "        event_name = event_data.loc[event_data['property'] == 'what']['value'].values[0] #This needs to be saved to map the wikidata urls to events\n",
    "        event_data = event_data[event_data.property != 'what'] #This row needs to be deleted for the loop\n",
    "        event_mapping[event] = event_name\n",
    "    except:\n",
    "        print(f\"Error when searching for event: {event}\")\n",
    "        failed_events.append(event)\n",
    "        continue\n",
    "\n",
    "    #event_uri = node_creation('', event_name, base_add='/event') #Generate the URI for the event\n",
    "    graph.add((URIRef(event), RDF.type, sem.Event)) #Create the event\n",
    "    graph.add((URIRef(event), RDF.value, Literal(event_name)))\n",
    "\n",
    "    for index, row in event_data.iterrows():\n",
    "        uri = node_creation('', row['value'], base_add='') #Generate the URI for the property\n",
    "        if uri_validator(uri) == False:\n",
    "            print(f\"Found issue, generated link is not an uri:\\n{uri}\")\n",
    "        graph.add((uri, RDF.type, sem_classes[row['property']])) #Create the node for the property, and lookup its class\n",
    "        if pd.isna(row['datatype']) == False: #It has a declared datatype\n",
    "            graph.add((uri, RDF.value, Literal(row['value'], datatype=row['datatype'])))\n",
    "        else:\n",
    "            graph.add((uri, RDF.value, Literal(row['value']))) #Add the value of the relation to the graph\n",
    "        graph.add((URIRef(event), row['property'], uri)) #Connect the event to the property\n",
    "\n",
    "        if row['property'] == sem.hasActor:\n",
    "            actor_set.add(event)\n",
    "        elif row['property'] == sem.hasPlace:\n",
    "            place_set.add(event)\n",
    "        elif (row['property'] == sem.hasTime or row['property'] == sem.hasBeginTimeStamp or row['property'] == sem.hasEndTimeStamp ):\n",
    "            time_set.add(event)\n",
    "        else:\n",
    "            print(f\"property not supported: {row['property']}\")"
   ]
  },
  {
   "cell_type": "code",
   "execution_count": 15,
   "metadata": {
    "collapsed": false,
    "jupyter": {
     "outputs_hidden": false
    },
    "pycharm": {
     "is_executing": true,
     "name": "#%%\n"
    }
   },
   "outputs": [],
   "source": [
    "graph.serialize(path.join(OUT_ROOT, 'event_data.ttl'), format='turtle')\n",
    "\n",
    "data[data['event'].isin(failed_events)] = None"
   ]
  },
  {
   "cell_type": "code",
   "execution_count": 17,
   "metadata": {},
   "outputs": [
    {
     "data": {
      "text/html": [
       "<div>\n",
       "<style scoped>\n",
       "    .dataframe tbody tr th:only-of-type {\n",
       "        vertical-align: middle;\n",
       "    }\n",
       "\n",
       "    .dataframe tbody tr th {\n",
       "        vertical-align: top;\n",
       "    }\n",
       "\n",
       "    .dataframe thead th {\n",
       "        text-align: right;\n",
       "    }\n",
       "</style>\n",
       "<table border=\"1\" class=\"dataframe\">\n",
       "  <thead>\n",
       "    <tr style=\"text-align: right;\">\n",
       "      <th></th>\n",
       "      <th>file_name</th>\n",
       "      <th>name_label</th>\n",
       "      <th>news_identifier</th>\n",
       "      <th>public_identifier</th>\n",
       "      <th>dateline</th>\n",
       "      <th>headline</th>\n",
       "      <th>country</th>\n",
       "      <th>city</th>\n",
       "      <th>keywords</th>\n",
       "      <th>genre</th>\n",
       "      <th>body_content</th>\n",
       "      <th>body_length</th>\n",
       "      <th>prediction</th>\n",
       "      <th>e1</th>\n",
       "      <th>e2</th>\n",
       "      <th>rel</th>\n",
       "      <th>event</th>\n",
       "      <th>date</th>\n",
       "    </tr>\n",
       "  </thead>\n",
       "  <tbody>\n",
       "    <tr>\n",
       "      <th>0</th>\n",
       "      <td>afp.com-20210606T170343Z-TX-PAR-WXO51.xml</td>\n",
       "      <td>Tennis-FRA-Open-Azarenka-sexism</td>\n",
       "      <td>TX-PAR-WXO51</td>\n",
       "      <td>urn:newsml:afp.com:20210606T170343Z:TX-PAR-WXO...</td>\n",
       "      <td>Paris, June 6, 2021 (AFP) -</td>\n",
       "      <td>Azarenka says French Open lacks true gender eq...</td>\n",
       "      <td>FRA</td>\n",
       "      <td>Paris</td>\n",
       "      <td>Tennis, FRA, Open, Azarenka, sexism</td>\n",
       "      <td>NaN</td>\n",
       "      <td>Victoria Azarenka criticised French Open organ...</td>\n",
       "      <td>518.0</td>\n",
       "      <td>lack of equality  Victoria Azarenka criticise...</td>\n",
       "      <td>lack of equality</td>\n",
       "      <td>Victoria Azarenka criticised French Open organ...</td>\n",
       "      <td>cause</td>\n",
       "      <td>None</td>\n",
       "      <td>2021-06-06</td>\n",
       "    </tr>\n",
       "    <tr>\n",
       "      <th>2</th>\n",
       "      <td>afp.com-20210606T170343Z-TX-PAR-WXO51.xml</td>\n",
       "      <td>Tennis-FRA-Open-Azarenka-sexism</td>\n",
       "      <td>TX-PAR-WXO51</td>\n",
       "      <td>urn:newsml:afp.com:20210606T170343Z:TX-PAR-WXO...</td>\n",
       "      <td>Paris, June 6, 2021 (AFP) -</td>\n",
       "      <td>Azarenka says French Open lacks true gender eq...</td>\n",
       "      <td>FRA</td>\n",
       "      <td>Paris</td>\n",
       "      <td>Tennis, FRA, Open, Azarenka, sexism</td>\n",
       "      <td>NaN</td>\n",
       "      <td>Last year Azarenka fumed at being left to \"sit...</td>\n",
       "      <td>518.0</td>\n",
       "      <td>Covid-19 pandemic  the 2020 tournament was de...</td>\n",
       "      <td>Covid-19 pandemic</td>\n",
       "      <td>the 2020 tournament was delayed to late September</td>\n",
       "      <td>cause</td>\n",
       "      <td>None</td>\n",
       "      <td>2021-06-06</td>\n",
       "    </tr>\n",
       "    <tr>\n",
       "      <th>3</th>\n",
       "      <td>afp.com-20210606T170343Z-TX-PAR-WXO51.xml</td>\n",
       "      <td>Tennis-FRA-Open-Azarenka-sexism</td>\n",
       "      <td>TX-PAR-WXO51</td>\n",
       "      <td>urn:newsml:afp.com:20210606T170343Z:TX-PAR-WXO...</td>\n",
       "      <td>Paris, June 6, 2021 (AFP) -</td>\n",
       "      <td>Azarenka says French Open lacks true gender eq...</td>\n",
       "      <td>FRA</td>\n",
       "      <td>Paris</td>\n",
       "      <td>Tennis, FRA, Open, Azarenka, sexism</td>\n",
       "      <td>NaN</td>\n",
       "      <td>Azarenka again took aim at officials following...</td>\n",
       "      <td>518.0</td>\n",
       "      <td>scheduling  took aim  cause</td>\n",
       "      <td>scheduling</td>\n",
       "      <td>took aim</td>\n",
       "      <td>cause</td>\n",
       "      <td>None</td>\n",
       "      <td>2021-06-06</td>\n",
       "    </tr>\n",
       "    <tr>\n",
       "      <th>4</th>\n",
       "      <td>afp.com-20210606T170343Z-TX-PAR-WXO51.xml</td>\n",
       "      <td>Tennis-FRA-Open-Azarenka-sexism</td>\n",
       "      <td>TX-PAR-WXO51</td>\n",
       "      <td>urn:newsml:afp.com:20210606T170343Z:TX-PAR-WXO...</td>\n",
       "      <td>Paris, June 6, 2021 (AFP) -</td>\n",
       "      <td>Azarenka says French Open lacks true gender eq...</td>\n",
       "      <td>FRA</td>\n",
       "      <td>Paris</td>\n",
       "      <td>Tennis, FRA, Open, Azarenka, sexism</td>\n",
       "      <td>NaN</td>\n",
       "      <td>Serena Williams won the first official night m...</td>\n",
       "      <td>518.0</td>\n",
       "      <td>curfew  played  cause</td>\n",
       "      <td>curfew</td>\n",
       "      <td>played</td>\n",
       "      <td>cause</td>\n",
       "      <td>None</td>\n",
       "      <td>2021-06-06</td>\n",
       "    </tr>\n",
       "    <tr>\n",
       "      <th>5</th>\n",
       "      <td>afp.com-20210606T170343Z-TX-PAR-WXO51.xml</td>\n",
       "      <td>Tennis-FRA-Open-Azarenka-sexism</td>\n",
       "      <td>TX-PAR-WXO51</td>\n",
       "      <td>urn:newsml:afp.com:20210606T170343Z:TX-PAR-WXO...</td>\n",
       "      <td>Paris, June 6, 2021 (AFP) -</td>\n",
       "      <td>Azarenka says French Open lacks true gender eq...</td>\n",
       "      <td>FRA</td>\n",
       "      <td>Paris</td>\n",
       "      <td>Tennis, FRA, Open, Azarenka, sexism</td>\n",
       "      <td>NaN</td>\n",
       "      <td>The French Tennis Federation's three-year part...</td>\n",
       "      <td>518.0</td>\n",
       "      <td>partnership  reserved  enable</td>\n",
       "      <td>partnership</td>\n",
       "      <td>reserved</td>\n",
       "      <td>enable</td>\n",
       "      <td>None</td>\n",
       "      <td>2021-06-06</td>\n",
       "    </tr>\n",
       "  </tbody>\n",
       "</table>\n",
       "</div>"
      ],
      "text/plain": [
       "                                   file_name                       name_label  \\\n",
       "0  afp.com-20210606T170343Z-TX-PAR-WXO51.xml  Tennis-FRA-Open-Azarenka-sexism   \n",
       "2  afp.com-20210606T170343Z-TX-PAR-WXO51.xml  Tennis-FRA-Open-Azarenka-sexism   \n",
       "3  afp.com-20210606T170343Z-TX-PAR-WXO51.xml  Tennis-FRA-Open-Azarenka-sexism   \n",
       "4  afp.com-20210606T170343Z-TX-PAR-WXO51.xml  Tennis-FRA-Open-Azarenka-sexism   \n",
       "5  afp.com-20210606T170343Z-TX-PAR-WXO51.xml  Tennis-FRA-Open-Azarenka-sexism   \n",
       "\n",
       "  news_identifier                                  public_identifier  \\\n",
       "0    TX-PAR-WXO51  urn:newsml:afp.com:20210606T170343Z:TX-PAR-WXO...   \n",
       "2    TX-PAR-WXO51  urn:newsml:afp.com:20210606T170343Z:TX-PAR-WXO...   \n",
       "3    TX-PAR-WXO51  urn:newsml:afp.com:20210606T170343Z:TX-PAR-WXO...   \n",
       "4    TX-PAR-WXO51  urn:newsml:afp.com:20210606T170343Z:TX-PAR-WXO...   \n",
       "5    TX-PAR-WXO51  urn:newsml:afp.com:20210606T170343Z:TX-PAR-WXO...   \n",
       "\n",
       "                      dateline  \\\n",
       "0  Paris, June 6, 2021 (AFP) -   \n",
       "2  Paris, June 6, 2021 (AFP) -   \n",
       "3  Paris, June 6, 2021 (AFP) -   \n",
       "4  Paris, June 6, 2021 (AFP) -   \n",
       "5  Paris, June 6, 2021 (AFP) -   \n",
       "\n",
       "                                            headline country   city  \\\n",
       "0  Azarenka says French Open lacks true gender eq...     FRA  Paris   \n",
       "2  Azarenka says French Open lacks true gender eq...     FRA  Paris   \n",
       "3  Azarenka says French Open lacks true gender eq...     FRA  Paris   \n",
       "4  Azarenka says French Open lacks true gender eq...     FRA  Paris   \n",
       "5  Azarenka says French Open lacks true gender eq...     FRA  Paris   \n",
       "\n",
       "                              keywords genre  \\\n",
       "0  Tennis, FRA, Open, Azarenka, sexism   NaN   \n",
       "2  Tennis, FRA, Open, Azarenka, sexism   NaN   \n",
       "3  Tennis, FRA, Open, Azarenka, sexism   NaN   \n",
       "4  Tennis, FRA, Open, Azarenka, sexism   NaN   \n",
       "5  Tennis, FRA, Open, Azarenka, sexism   NaN   \n",
       "\n",
       "                                        body_content  body_length  \\\n",
       "0  Victoria Azarenka criticised French Open organ...        518.0   \n",
       "2  Last year Azarenka fumed at being left to \"sit...        518.0   \n",
       "3  Azarenka again took aim at officials following...        518.0   \n",
       "4  Serena Williams won the first official night m...        518.0   \n",
       "5  The French Tennis Federation's three-year part...        518.0   \n",
       "\n",
       "                                          prediction                  e1  \\\n",
       "0   lack of equality  Victoria Azarenka criticise...    lack of equality   \n",
       "2   Covid-19 pandemic  the 2020 tournament was de...   Covid-19 pandemic   \n",
       "3                        scheduling  took aim  cause          scheduling   \n",
       "4                              curfew  played  cause              curfew   \n",
       "5                      partnership  reserved  enable         partnership   \n",
       "\n",
       "                                                  e2     rel event        date  \n",
       "0  Victoria Azarenka criticised French Open organ...   cause  None  2021-06-06  \n",
       "2  the 2020 tournament was delayed to late September   cause  None  2021-06-06  \n",
       "3                                           took aim   cause  None  2021-06-06  \n",
       "4                                             played   cause  None  2021-06-06  \n",
       "5                                           reserved  enable  None  2021-06-06  "
      ]
     },
     "execution_count": 17,
     "metadata": {},
     "output_type": "execute_result"
    }
   ],
   "source": [
    "import time\n",
    "import re\n",
    "\n",
    "def to_date(string_date):\n",
    "    if not isinstance(string_date, str):\n",
    "        return None\n",
    "\n",
    "    regex = r\"(?:.+, )?(.+ \\d+) \\((AFP|BSW)\\) -\"\n",
    "    matches = re.finditer(regex, string_date)\n",
    "    for matchNum, match in enumerate(matches, start=1):\n",
    "        clean_date = match.group(1).replace('June', 'Jun').replace('April', 'Apr').replace('2 oct 2021', 'Oct 2, 2021')\n",
    "        break\n",
    "\n",
    "    try:\n",
    "        parsed = time.strptime(clean_date, '%b %d, %Y')\n",
    "        return time.strftime('%Y-%m-%d', parsed)\n",
    "    except:\n",
    "        print(clean_date)\n",
    "        return None\n",
    "\n",
    "\n",
    "data['date'] = data['dateline'].apply(to_date)\n",
    "data.head()"
   ]
  },
  {
   "cell_type": "code",
   "execution_count": 18,
   "metadata": {},
   "outputs": [],
   "source": [
    "data.to_csv(path.join(DATA_ROOT, 'afp2021.csv'), columns=['file_name', 'name_label', 'news_identifier', 'public_identifier', 'date', 'headline', 'country', 'city', 'keywords', 'genre', 'body_content', 'body_length', 'e1', 'e2', 'rel', 'event'])"
   ]
  },
  {
   "cell_type": "code",
   "execution_count": 33,
   "metadata": {},
   "outputs": [],
   "source": [
    "import os\n",
    "\n",
    "\n",
    "def split_csv(filehandler, delimiter=',', row_limit=10000, \n",
    "    output_name_template='output_%s.csv', output_path='.', keep_headers=True):\n",
    "    \"\"\"\n",
    "    Splits a CSV file into multiple pieces.\n",
    "    \n",
    "    A quick bastardization of the Python CSV library.\n",
    "\n",
    "    Arguments:\n",
    "\n",
    "        `row_limit`: The number of rows you want in each output file. 10,000 by default.\n",
    "        `output_name_template`: A %s-style template for the numbered output files.\n",
    "        `output_path`: Where to stick the output files.\n",
    "        `keep_headers`: Whether or not to print the headers in each output file.\n",
    "\n",
    "    Example usage:\n",
    "    \n",
    "        >> from toolbox import csv_splitter;\n",
    "        >> csv_splitter.split(open('/home/ben/input.csv', 'r'));\n",
    "    \n",
    "    \"\"\"\n",
    "    reader = csv.reader(filehandler, delimiter=delimiter)\n",
    "    current_piece = 1\n",
    "    current_out_path = os.path.join(\n",
    "         output_path,\n",
    "         output_name_template  % current_piece\n",
    "    )\n",
    "    current_out_writer = csv.writer(open(current_out_path, 'w'), delimiter=delimiter)\n",
    "    current_limit = row_limit\n",
    "    if keep_headers:\n",
    "        headers = next(reader)\n",
    "        current_out_writer.writerow(headers)\n",
    "    for i, row in enumerate(reader):\n",
    "        if i + 1 > current_limit:\n",
    "            current_piece += 1\n",
    "            current_limit = row_limit * current_piece\n",
    "            current_out_path = os.path.join(\n",
    "               output_path,\n",
    "               output_name_template  % current_piece\n",
    "            )\n",
    "            current_out_writer = csv.writer(open(current_out_path, 'w'), delimiter=delimiter)\n",
    "            if keep_headers:\n",
    "                current_out_writer.writerow(headers)\n",
    "        current_out_writer.writerow(row)"
   ]
  },
  {
   "cell_type": "code",
   "execution_count": 43,
   "metadata": {},
   "outputs": [],
   "source": [
    "with open(path.join(DATA_ROOT, 'afp2021.csv'), 'r') as f:\n",
    "    split_csv(f, output_name_template=f'{DATA_ROOT}/afp2021_%s.csv', row_limit=180000)"
   ]
  },
  {
   "cell_type": "code",
   "execution_count": 44,
   "metadata": {},
   "outputs": [],
   "source": [
    "import uuid\n",
    "BASE = 'http://kflow.eurecom.fr/'"
   ]
  },
  {
   "cell_type": "code",
   "execution_count": 89,
   "metadata": {
    "collapsed": false,
    "jupyter": {
     "outputs_hidden": false
    },
    "pycharm": {
     "is_executing": true,
     "name": "#%%\n"
    }
   },
   "outputs": [
    {
     "data": {
      "application/vnd.jupyter.widget-view+json": {
       "model_id": "9f73f8ccaf4d43d79e53f57ac75d34f7",
       "version_major": 2,
       "version_minor": 0
      },
      "text/plain": [
       "  0%|          | 0/538708 [00:00<?, ?it/s]"
      ]
     },
     "metadata": {},
     "output_type": "display_data"
    }
   ],
   "source": [
    "graph = Graph()\n",
    "for index, row in tqdm(data.iterrows(), total=data.shape[0]):\n",
    "    if row['file_name'] is None:\n",
    "        continue\n",
    "    try:\n",
    "        article_URI = f\"{BASE}news/{uuid.uuid5(uuid.NAMESPACE_DNS, row['file_name'])}\"\n",
    "    except:\n",
    "        print(row['file_name'])\n",
    "    article = URIRef(article_URI)\n",
    "    \n",
    "    graph.add((article, RDF.type, rnews.Article)) \n",
    "    \n",
    "    identifier_uri = node_creation('', row['public_identifier'], base_add='/identifier')\n",
    "    graph.add((article, rnews.identifier, URIRef(identifier_uri))) #Link the PublicID to the article\n",
    "    graph.add((URIRef(identifier_uri), RDF.value, Literal(row['public_identifier'])))\n",
    "\n",
    "    if isinstance(row['city'], str):\n",
    "        location_uri = node_creation('', row['city'], base_add='')\n",
    "        location = URIRef(location_uri)\n",
    "        graph.add((article, schema.contentLocation, location))\n",
    "        graph.add((location, RDF.value, Literal(row['city'])))\n",
    "        graph.add((location, RDF.type, schema.Place))\n",
    "\n",
    "    if row['date'] is not None:\n",
    "        time_uri = node_creation('', row['date'], base_add='')\n",
    "        time_ent = URIRef(time_uri)\n",
    "        graph.add(( article, schema.contentReferenceTime, time_ent ))\n",
    "        graph.add((time_ent, RDF.value, Literal(row['date'], datatype=XSD.date) ))\n",
    "        graph.add((time_ent, RDF.type, schema.Time))\n",
    "\n",
    "    sentence = row['body_content']\n",
    "    e1 = row['e1'].strip()\n",
    "    e2 = row['e2'].strip()\n",
    "    rel = row['rel'].strip()\n",
    "    prediction = (e1, rel, e2)\n",
    "\n",
    "    sentence_uri = node_creation('', sentence, base_add='/sentence') #Generate the URI for the sentence\n",
    "    graph.add((article, nif.sentence, sentence_uri)) #Link the article to the sentence\n",
    "    graph.add((sentence_uri, RDF.type, nif.Sentence)) #Make the sentence URI of class 'Sentence'\n",
    "    graph.add((sentence_uri, RDF.value, Literal(sentence))) #Set the value of the URI equal to the sentence\n",
    "\n",
    "    subject_uri = node_creation('', e1 + str(sentence_uri), base_add='/subject') #Generate the URI for the subject, for now add the uri of sentence to make it unique\n",
    "    #graph.add((sentence_uri, faro.Relata, subject_uri)) #Add the subject to the sentence\n",
    "    graph.add((sentence_uri, nif.word, subject_uri)) #Add the subject to the sentence\n",
    "    graph.add((subject_uri, RDF.type, faro.Relata)) #Make it of class 'Relata'\n",
    "    graph.add((subject_uri, RDF.value, Literal(e1))) #Set the value of the subject URI equal to the subject\n",
    "\n",
    "    object_uri = node_creation('', e2 + str(sentence_uri), base_add='/object') #Generate the URI for the object, for now add the uri of sentence to make it unique\n",
    "    #graph.add((sentence_uri, faro.Relata, object_uri)) #Add the object to the sentence\n",
    "    graph.add((sentence_uri, nif.word, object_uri)) #Add the object to the sentence\n",
    "    graph.add((object_uri, RDF.type, faro.Relata)) #Make it of class 'Relata'\n",
    "    graph.add((object_uri, RDF.value, Literal(e2))) #Set the value of the subject URI equal to the object\n",
    "\n",
    "    graph.add((subject_uri, faro_classes[rel], object_uri)) #Add relation between NERs\n",
    "\n",
    "    if row['event'] is not None:\n",
    "        graph.add((article, schema.about, URIRef(event)))\n",
    "        graph.add((URIRef(event), schema.subjectOf, article))"
   ]
  },
  {
   "cell_type": "code",
   "execution_count": 90,
   "metadata": {
    "collapsed": false,
    "jupyter": {
     "outputs_hidden": false
    },
    "pycharm": {
     "is_executing": true,
     "name": "#%%\n"
    }
   },
   "outputs": [
    {
     "data": {
      "text/plain": [
       "<Graph identifier=N862df1e49c8646e19dc04596acab5962 (<class 'rdflib.graph.Graph'>)>"
      ]
     },
     "execution_count": 90,
     "metadata": {},
     "output_type": "execute_result"
    }
   ],
   "source": [
    "graph.bind('nif', nif)\n",
    "graph.bind('faro', faro)\n",
    "graph.bind('sem', sem)\n",
    "graph.bind('owl', owl)\n",
    "graph.bind('rnews', rnews)\n",
    "graph.bind('schema', schema)\n",
    "graph.bind('xsd', XSD)\n",
    "graph.bind('kflow', 'http://kflow.eurecom.fr/')\n",
    "graph.bind('kflow-s', 'http://kflow.eurecom.fr/sentence/')\n",
    "graph.bind('kflow-n', 'http://kflow.eurecom.fr/news/')\n",
    "graph.bind('kflow-i', 'http://kflow.eurecom.fr/identifier/')\n",
    "graph.serialize(path.join(OUT_ROOT,'afp2021.ttl'), format='turtle')"
   ]
  },
  {
   "cell_type": "code",
   "execution_count": 14,
   "metadata": {},
   "outputs": [
    {
     "data": {
      "text/plain": [
       "338.5618190765381"
      ]
     },
     "execution_count": 14,
     "metadata": {},
     "output_type": "execute_result"
    }
   ],
   "source": [
    "OUT_ROOT = '../dump/afp/'\n",
    "from os import path\n",
    "import math\n",
    "filepath = path.join(OUT_ROOT,'afp2021.ttl')\n",
    "outpath = path.join(OUT_ROOT,'afp2021.ttl').replace('.ttl', '_%d.ttl')\n",
    "\n",
    "with open(filepath, 'r') as file:\n",
    "    body=file.readlines()\n",
    "\n",
    "filesize = path.getsize(filepath)\n",
    "filesize_mega = filesize / 1024 / 1024\n",
    "filesize_mega"
   ]
  },
  {
   "cell_type": "code",
   "execution_count": 15,
   "metadata": {},
   "outputs": [
    {
     "data": {
      "text/plain": [
       "5"
      ]
     },
     "execution_count": 15,
     "metadata": {},
     "output_type": "execute_result"
    }
   ],
   "source": [
    "input_limit = 90\n",
    "limit = input_limit * 0.90\n",
    "n_parts = math.ceil(filesize_mega / limit)\n",
    "n_parts"
   ]
  },
  {
   "cell_type": "code",
   "execution_count": 16,
   "metadata": {},
   "outputs": [],
   "source": [
    "prefixes = []\n",
    "for i, x in enumerate(body):\n",
    "    if x.startswith('@prefix'):\n",
    "        prefixes.append(x)\n",
    "    else:\n",
    "        break\n",
    "content = body[i:]\n",
    "\n",
    "buckets = []\n",
    "span = math.floor(len(content) / n_parts)\n",
    "while len(content) > span:\n",
    "    splitting = span\n",
    "    while content[splitting] != '\\n':\n",
    "        splitting-=1\n",
    "    buckets.append(content[0:splitting])\n",
    "    content = content[splitting:]\n",
    "buckets[-1] = buckets[-1] + content"
   ]
  },
  {
   "cell_type": "code",
   "execution_count": 17,
   "metadata": {},
   "outputs": [],
   "source": [
    "for i, bucket in enumerate(buckets):\n",
    "    newfile = outpath % i\n",
    "    with open(newfile, 'w') as f:\n",
    "        f.write(''.join(prefixes))\n",
    "        f.write(''.join(bucket))"
   ]
  },
  {
   "cell_type": "code",
   "execution_count": null,
   "metadata": {},
   "outputs": [],
   "source": []
  },
  {
   "cell_type": "code",
   "execution_count": null,
   "metadata": {},
   "outputs": [],
   "source": []
  }
 ],
 "metadata": {
  "kernelspec": {
   "display_name": "Python 3 (ipykernel)",
   "language": "python",
   "name": "python3"
  },
  "language_info": {
   "codemirror_mode": {
    "name": "ipython",
    "version": 3
   },
   "file_extension": ".py",
   "mimetype": "text/x-python",
   "name": "python",
   "nbconvert_exporter": "python",
   "pygments_lexer": "ipython3",
   "version": "3.11.9"
  }
 },
 "nbformat": 4,
 "nbformat_minor": 4
}
